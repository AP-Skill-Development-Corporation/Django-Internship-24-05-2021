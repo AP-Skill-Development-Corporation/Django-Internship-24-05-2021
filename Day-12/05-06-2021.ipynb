{
 "cells": [
  {
   "cell_type": "markdown",
   "id": "35e4ff31",
   "metadata": {},
   "source": [
    "# FILES,Packages and Modules:"
   ]
  },
  {
   "cell_type": "markdown",
   "id": "6f6e0a67",
   "metadata": {},
   "source": [
    "# Files:\n",
    "    - To store valuse or data in permananetly\n",
    "    - File formats .py,.text,.java,.csv\n",
    "    - 3 Modes\n",
    "        = Read -> r -> if file doesnt exists it displays an error. If file existss it reads the data in a file\n",
    "        = Write -> w -> if file doesnt exists it creates a file with user defined filename. If file exists it writes to a file. Previous data will be erased and new data will be added \n",
    "        = Append -> a -> if file doesnt exists it creates a file with user defined filename. If file exists it writes to a file. It will adds new data for existing ones\n",
    "        = Execute -> x -> If the file is not exist with file name then it creates a file with user defined filename"
   ]
  },
  {
   "cell_type": "code",
   "execution_count": 4,
   "id": "12b551c4",
   "metadata": {},
   "outputs": [],
   "source": [
    "with open('Rawdata/sample.text','w') as ft:\n",
    "    ft.write(\"Hello Good Evening to All\")"
   ]
  },
  {
   "cell_type": "code",
   "execution_count": 14,
   "id": "87613ece",
   "metadata": {},
   "outputs": [
    {
     "name": "stdout",
     "output_type": "stream",
     "text": [
      "Hi\n",
      "Hi welcome\n"
     ]
    }
   ],
   "source": [
    "with open('Rawdata/demo.text','r')as fr:\n",
    "    print(fr.read())"
   ]
  },
  {
   "cell_type": "code",
   "execution_count": 8,
   "id": "65afc10c",
   "metadata": {},
   "outputs": [],
   "source": [
    "with open('Rawdata/sample.text','a') as fa:\n",
    "    fa.write(\"\\nWelcome to APSSDC Programs\")"
   ]
  },
  {
   "cell_type": "code",
   "execution_count": 13,
   "id": "66d51765",
   "metadata": {},
   "outputs": [],
   "source": [
    "with open('Rawdata/demo.text','a') as d:\n",
    "    d.write(\"\\nHi welcome\")"
   ]
  },
  {
   "cell_type": "code",
   "execution_count": 20,
   "id": "b5b5d6fb",
   "metadata": {},
   "outputs": [
    {
     "ename": "FileExistsError",
     "evalue": "[Errno 17] File exists: 'Rawdata/sample2.text'",
     "output_type": "error",
     "traceback": [
      "\u001b[1;31m---------------------------------------------------------------------------\u001b[0m",
      "\u001b[1;31mFileExistsError\u001b[0m                           Traceback (most recent call last)",
      "\u001b[1;32m<ipython-input-20-502eebeee688>\u001b[0m in \u001b[0;36m<module>\u001b[1;34m\u001b[0m\n\u001b[1;32m----> 1\u001b[1;33m \u001b[1;32mwith\u001b[0m \u001b[0mopen\u001b[0m\u001b[1;33m(\u001b[0m\u001b[1;34m'Rawdata/sample2.text'\u001b[0m\u001b[1;33m,\u001b[0m\u001b[1;34m'x'\u001b[0m\u001b[1;33m)\u001b[0m \u001b[1;32mas\u001b[0m \u001b[0mf\u001b[0m\u001b[1;33m:\u001b[0m\u001b[1;33m\u001b[0m\u001b[1;33m\u001b[0m\u001b[0m\n\u001b[0m\u001b[0;32m      2\u001b[0m     \u001b[1;32mwith\u001b[0m \u001b[0mopen\u001b[0m\u001b[1;33m(\u001b[0m\u001b[1;34m'Rawdata/sample2.text'\u001b[0m\u001b[1;33m,\u001b[0m\u001b[1;34m'w'\u001b[0m\u001b[1;33m)\u001b[0m \u001b[1;32mas\u001b[0m \u001b[0mg\u001b[0m\u001b[1;33m:\u001b[0m\u001b[1;33m\u001b[0m\u001b[1;33m\u001b[0m\u001b[0m\n\u001b[0;32m      3\u001b[0m         \u001b[0mg\u001b[0m\u001b[1;33m.\u001b[0m\u001b[0mwrite\u001b[0m\u001b[1;33m(\u001b[0m\u001b[1;34m\"Welcome Ramu\"\u001b[0m\u001b[1;33m)\u001b[0m\u001b[1;33m\u001b[0m\u001b[1;33m\u001b[0m\u001b[0m\n",
      "\u001b[1;31mFileExistsError\u001b[0m: [Errno 17] File exists: 'Rawdata/sample2.text'"
     ]
    }
   ],
   "source": [
    "with open('Rawdata/sample2.text','x') as f:\n",
    "    with open('Rawdata/sample2.text','w') as g:\n",
    "        g.write(\"Welcome Ramu\")"
   ]
  },
  {
   "cell_type": "markdown",
   "id": "ca82f16a",
   "metadata": {},
   "source": [
    "```\n",
    "Input.text:\n",
    "            20\n",
    "\n",
    "Output.text:\n",
    "            Entered Number is: 20\n",
    "            Even numbers in range 20 is: \n",
    "```"
   ]
  },
  {
   "cell_type": "code",
   "execution_count": 25,
   "id": "463a0440",
   "metadata": {},
   "outputs": [
    {
     "name": "stdout",
     "output_type": "stream",
     "text": [
      "Enter a range: 5\n",
      "Enter a name: tilak\n",
      "Enter a name: rajesh\n",
      "Enter a name: yadav\n",
      "Enter a name: kumar\n",
      "Enter a name: sai\n"
     ]
    }
   ],
   "source": [
    "with open('Rawdata/Names.csv','w') as y:\n",
    "    n = int(input(\"Enter a range: \"))\n",
    "    for j in range(1,n+1):\n",
    "        m = input(\"Enter a name: \")\n",
    "        y.write(m+\"\\n\")"
   ]
  },
  {
   "cell_type": "code",
   "execution_count": 26,
   "id": "4019fa08",
   "metadata": {},
   "outputs": [
    {
     "name": "stdout",
     "output_type": "stream",
     "text": [
      "['_CHUNK_SIZE', '__class__', '__del__', '__delattr__', '__dict__', '__dir__', '__doc__', '__enter__', '__eq__', '__exit__', '__format__', '__ge__', '__getattribute__', '__getstate__', '__gt__', '__hash__', '__init__', '__init_subclass__', '__iter__', '__le__', '__lt__', '__ne__', '__new__', '__next__', '__reduce__', '__reduce_ex__', '__repr__', '__setattr__', '__sizeof__', '__str__', '__subclasshook__', '_checkClosed', '_checkReadable', '_checkSeekable', '_checkWritable', '_finalizing', 'buffer', 'close', 'closed', 'detach', 'encoding', 'errors', 'fileno', 'flush', 'isatty', 'line_buffering', 'mode', 'name', 'newlines', 'read', 'readable', 'readline', 'readlines', 'reconfigure', 'seek', 'seekable', 'tell', 'truncate', 'writable', 'write', 'write_through', 'writelines']\n"
     ]
    }
   ],
   "source": [
    "print(dir(y))"
   ]
  },
  {
   "cell_type": "code",
   "execution_count": 36,
   "id": "8435dfc9",
   "metadata": {},
   "outputs": [
    {
     "name": "stdout",
     "output_type": "stream",
     "text": [
      "['tilak', 'rajesh', 'yadav', 'kumar', 'sai']\n"
     ]
    }
   ],
   "source": [
    "with open('Rawdata/Names.csv','r') as k:\n",
    "    s = k.readlines()\n",
    "    q = []\n",
    "    for v in s:\n",
    "        q.append(v.split('\\n')[0])\n",
    "    print(q)"
   ]
  },
  {
   "cell_type": "code",
   "execution_count": 44,
   "id": "62273f5b",
   "metadata": {},
   "outputs": [
    {
     "name": "stdout",
     "output_type": "stream",
     "text": [
      "Enter a range50\n"
     ]
    }
   ],
   "source": [
    "with open('Rawdata/input.text','w') as fw:\n",
    "    fw.write(input(\"Enter a range\"))"
   ]
  },
  {
   "cell_type": "code",
   "execution_count": 45,
   "id": "e57d88df",
   "metadata": {},
   "outputs": [],
   "source": [
    "with open('Rawdata/input.text','r') as g:\n",
    "    f = g.readlines()\n",
    "    with open('Rawdata\\output.text','w') as wy:\n",
    "        wy.write(\"Entered number is: {}\\n\".format(f[0]))\n",
    "        x = []\n",
    "        for n in range(1,int(f[0])+1):\n",
    "            if n%2==0:\n",
    "                h = str(n)+\",\"\n",
    "                x.append(h)\n",
    "        t = \" \".join(x)\n",
    "        wy.write(\"Even numbers in range {} is: {}\".format(f[0],t))"
   ]
  },
  {
   "cell_type": "code",
   "execution_count": null,
   "id": "4df425ac",
   "metadata": {},
   "outputs": [],
   "source": [
    "Task:\n",
    "    \n",
    "    Sheet -> \n",
    "        Field -> Name,Time in session(minutes)\n",
    "            roll-name-collegecode\n",
    "            19KQ1A0526-Gayathri-PACE => 100\n",
    "            tarun\n",
    "            \n",
    "            roll => 19KQ1A0526 \n",
    "            \n",
    "            \n",
    "    Output.csv\n",
    "        \n",
    "        Roll          Time  \n",
    "        19KQ1A0526    100     \n",
    "        ----------     ----   \n",
    "        \n",
    "    Notconsidered.csv\n",
    "        Roll      Time\n",
    "    \n",
    "    \n",
    "    Final.csv: [70]\n",
    "        Roll     Time  status\n",
    "        ---------------\n",
    "        --        120      P\n",
    "        --        22       A"
   ]
  },
  {
   "cell_type": "code",
   "execution_count": 48,
   "id": "723e2fc9",
   "metadata": {},
   "outputs": [
    {
     "name": "stdout",
     "output_type": "stream",
     "text": [
      "18091A04H9\n"
     ]
    }
   ],
   "source": [
    "n = ['18091A04H9-Santhosh Kumar-Rajeev Gandhi Memorial College Of Engineering And Technology']\n",
    "d = n[0].split(\"-\")[0]\n",
    "print(d)"
   ]
  },
  {
   "cell_type": "code",
   "execution_count": null,
   "id": "296e0e24",
   "metadata": {},
   "outputs": [],
   "source": []
  }
 ],
 "metadata": {
  "kernelspec": {
   "display_name": "Python 3",
   "language": "python",
   "name": "python3"
  },
  "language_info": {
   "codemirror_mode": {
    "name": "ipython",
    "version": 3
   },
   "file_extension": ".py",
   "mimetype": "text/x-python",
   "name": "python",
   "nbconvert_exporter": "python",
   "pygments_lexer": "ipython3",
   "version": "3.7.5"
  }
 },
 "nbformat": 4,
 "nbformat_minor": 5
}
