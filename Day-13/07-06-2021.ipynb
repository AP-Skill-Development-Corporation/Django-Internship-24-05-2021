{
 "cells": [
  {
   "cell_type": "markdown",
   "id": "d217527d",
   "metadata": {},
   "source": [
    "# Packages and Modules:\n",
    "    "
   ]
  },
  {
   "cell_type": "markdown",
   "id": "84638c32",
   "metadata": {},
   "source": [
    "## Package:\n",
    "    - Folder - No of files or number of folder\n",
    "    - Package => Folder\n",
    "              => Number of fodlers or files\n",
    "              => Collection of modules\n",
    "    - Module => Files [.py]\n",
    "             => collection of class,methods,functions, variables\n",
    "             "
   ]
  },
  {
   "cell_type": "markdown",
   "id": "9f03d49c",
   "metadata": {},
   "source": [
    "Example:\n",
    "           College => Package\n",
    "               CSE => Sub Packages\n",
    "                   -> first.py => modules\n",
    "                   -> second.py\n",
    "                   -> third.py\n",
    "               ECE\n",
    "               EEE\n",
    "               Mech\n",
    "               Civil"
   ]
  },
  {
   "cell_type": "code",
   "execution_count": 1,
   "id": "e63bc38b",
   "metadata": {},
   "outputs": [],
   "source": [
    "import math"
   ]
  },
  {
   "cell_type": "code",
   "execution_count": 2,
   "id": "c8bfd324",
   "metadata": {},
   "outputs": [
    {
     "name": "stdout",
     "output_type": "stream",
     "text": [
      "['__doc__', '__loader__', '__name__', '__package__', '__spec__', 'acos', 'acosh', 'asin', 'asinh', 'atan', 'atan2', 'atanh', 'ceil', 'copysign', 'cos', 'cosh', 'degrees', 'e', 'erf', 'erfc', 'exp', 'expm1', 'fabs', 'factorial', 'floor', 'fmod', 'frexp', 'fsum', 'gamma', 'gcd', 'hypot', 'inf', 'isclose', 'isfinite', 'isinf', 'isnan', 'ldexp', 'lgamma', 'log', 'log10', 'log1p', 'log2', 'modf', 'nan', 'pi', 'pow', 'radians', 'remainder', 'sin', 'sinh', 'sqrt', 'tan', 'tanh', 'tau', 'trunc']\n"
     ]
    }
   ],
   "source": [
    "print(dir(math))"
   ]
  },
  {
   "cell_type": "code",
   "execution_count": 3,
   "id": "2a51a0b4",
   "metadata": {},
   "outputs": [
    {
     "name": "stdout",
     "output_type": "stream",
     "text": [
      "93326215443944152681699238856266700490715968264381621468592963895217599993229915608941463976156518286253697920827223758251185210916864000000000000000000000000\n"
     ]
    }
   ],
   "source": [
    "print(math.factorial(100))"
   ]
  },
  {
   "cell_type": "code",
   "execution_count": 1,
   "id": "fdc6ef4b",
   "metadata": {},
   "outputs": [],
   "source": [
    "import sample"
   ]
  },
  {
   "cell_type": "code",
   "execution_count": 2,
   "id": "6dfcb79b",
   "metadata": {},
   "outputs": [
    {
     "name": "stdout",
     "output_type": "stream",
     "text": [
      "['__builtins__', '__cached__', '__doc__', '__file__', '__loader__', '__name__', '__package__', '__spec__', 'a']\n"
     ]
    }
   ],
   "source": [
    "print(dir(sample))"
   ]
  },
  {
   "cell_type": "code",
   "execution_count": 3,
   "id": "8dae39ef",
   "metadata": {},
   "outputs": [
    {
     "name": "stdout",
     "output_type": "stream",
     "text": [
      "200\n"
     ]
    }
   ],
   "source": [
    "print(sample.a)"
   ]
  },
  {
   "cell_type": "code",
   "execution_count": 1,
   "id": "c672e1c4",
   "metadata": {},
   "outputs": [],
   "source": [
    "import first"
   ]
  },
  {
   "cell_type": "code",
   "execution_count": 2,
   "id": "99f93dfc",
   "metadata": {},
   "outputs": [
    {
     "name": "stdout",
     "output_type": "stream",
     "text": [
      "['__builtins__', '__cached__', '__doc__', '__file__', '__loader__', '__name__', '__package__', '__spec__', 'h', 'n']\n"
     ]
    }
   ],
   "source": [
    "print(dir(first))"
   ]
  },
  {
   "cell_type": "code",
   "execution_count": 4,
   "id": "d5c18809",
   "metadata": {},
   "outputs": [
    {
     "name": "stdout",
     "output_type": "stream",
     "text": [
      "Hello Good Evening to All.. Hi Welcome Raju your age is: 40\n"
     ]
    }
   ],
   "source": [
    "print(first.h,first.n)"
   ]
  },
  {
   "cell_type": "code",
   "execution_count": 5,
   "id": "1aeb0362",
   "metadata": {},
   "outputs": [],
   "source": [
    "from APSSDC import demo"
   ]
  },
  {
   "cell_type": "code",
   "execution_count": 6,
   "id": "a8c3b35e",
   "metadata": {},
   "outputs": [
    {
     "name": "stdout",
     "output_type": "stream",
     "text": [
      "['__builtins__', '__cached__', '__doc__', '__file__', '__loader__', '__name__', '__package__', '__spec__', 'a', 'p', 'z']\n"
     ]
    }
   ],
   "source": [
    "print(dir(demo))"
   ]
  },
  {
   "cell_type": "code",
   "execution_count": 7,
   "id": "77bc0af2",
   "metadata": {},
   "outputs": [
    {
     "name": "stdout",
     "output_type": "stream",
     "text": [
      "20 2000 Ramesh\n"
     ]
    }
   ],
   "source": [
    "print(demo.a,demo.p,demo.z)"
   ]
  },
  {
   "cell_type": "code",
   "execution_count": 7,
   "id": "a345fcd1",
   "metadata": {},
   "outputs": [],
   "source": [
    "from APSSDC import *"
   ]
  },
  {
   "cell_type": "code",
   "execution_count": 8,
   "id": "ba084ba4",
   "metadata": {},
   "outputs": [
    {
     "ename": "NameError",
     "evalue": "name 'prasad' is not defined",
     "output_type": "error",
     "traceback": [
      "\u001b[1;31m---------------------------------------------------------------------------\u001b[0m",
      "\u001b[1;31mNameError\u001b[0m                                 Traceback (most recent call last)",
      "\u001b[1;32m<ipython-input-8-6ac5d39871a9>\u001b[0m in \u001b[0;36m<module>\u001b[1;34m\u001b[0m\n\u001b[1;32m----> 1\u001b[1;33m \u001b[0mprint\u001b[0m\u001b[1;33m(\u001b[0m\u001b[0mdemo\u001b[0m\u001b[1;33m.\u001b[0m\u001b[0mp\u001b[0m\u001b[1;33m,\u001b[0m\u001b[0mprasad\u001b[0m\u001b[1;33m.\u001b[0m\u001b[0mname\u001b[0m\u001b[1;33m)\u001b[0m\u001b[1;33m\u001b[0m\u001b[1;33m\u001b[0m\u001b[0m\n\u001b[0m",
      "\u001b[1;31mNameError\u001b[0m: name 'prasad' is not defined"
     ]
    }
   ],
   "source": [
    "print(demo.p,prasad.name)"
   ]
  },
  {
   "cell_type": "code",
   "execution_count": 9,
   "id": "d2b0ff31",
   "metadata": {},
   "outputs": [],
   "source": [
    "from APSSDC import demo,prasad"
   ]
  },
  {
   "cell_type": "code",
   "execution_count": 10,
   "id": "a9d3085b",
   "metadata": {},
   "outputs": [
    {
     "name": "stdout",
     "output_type": "stream",
     "text": [
      "2000 Prasad\n"
     ]
    }
   ],
   "source": [
    "print(demo.p,prasad.name)"
   ]
  },
  {
   "cell_type": "code",
   "execution_count": 11,
   "id": "2afef7ea",
   "metadata": {},
   "outputs": [],
   "source": [
    "from APSSDC.demo import a"
   ]
  },
  {
   "cell_type": "code",
   "execution_count": 12,
   "id": "c11fe5f6",
   "metadata": {},
   "outputs": [
    {
     "name": "stdout",
     "output_type": "stream",
     "text": [
      "20\n"
     ]
    }
   ],
   "source": [
    "print(a)"
   ]
  },
  {
   "cell_type": "code",
   "execution_count": 9,
   "id": "138f46d3",
   "metadata": {},
   "outputs": [],
   "source": [
    "from APSSDC.CSE import first as c\n",
    "from APSSDC.ECE import first as e"
   ]
  },
  {
   "cell_type": "code",
   "execution_count": 10,
   "id": "9574393e",
   "metadata": {},
   "outputs": [
    {
     "ename": "NameError",
     "evalue": "name 'first' is not defined",
     "output_type": "error",
     "traceback": [
      "\u001b[1;31m---------------------------------------------------------------------------\u001b[0m",
      "\u001b[1;31mNameError\u001b[0m                                 Traceback (most recent call last)",
      "\u001b[1;32m<ipython-input-10-a5dd10721168>\u001b[0m in \u001b[0;36m<module>\u001b[1;34m\u001b[0m\n\u001b[1;32m----> 1\u001b[1;33m \u001b[0mprint\u001b[0m\u001b[1;33m(\u001b[0m\u001b[0mdir\u001b[0m\u001b[1;33m(\u001b[0m\u001b[0mfirst\u001b[0m\u001b[1;33m)\u001b[0m\u001b[1;33m)\u001b[0m\u001b[1;33m\u001b[0m\u001b[1;33m\u001b[0m\u001b[0m\n\u001b[0m",
      "\u001b[1;31mNameError\u001b[0m: name 'first' is not defined"
     ]
    }
   ],
   "source": [
    "print(dir(first))"
   ]
  },
  {
   "cell_type": "code",
   "execution_count": 11,
   "id": "adc7ef8e",
   "metadata": {},
   "outputs": [
    {
     "name": "stdout",
     "output_type": "stream",
     "text": [
      "['__builtins__', '__cached__', '__doc__', '__file__', '__loader__', '__name__', '__package__', '__spec__', 'm']\n",
      "['__builtins__', '__cached__', '__doc__', '__file__', '__loader__', '__name__', '__package__', '__spec__', 'q']\n"
     ]
    }
   ],
   "source": [
    "print(dir(c))\n",
    "print(dir(e))"
   ]
  },
  {
   "cell_type": "code",
   "execution_count": 18,
   "id": "6a475569",
   "metadata": {},
   "outputs": [
    {
     "name": "stdout",
     "output_type": "stream",
     "text": [
      "first year from CSE\n",
      "First year from ECE\n"
     ]
    }
   ],
   "source": [
    "print(c.m)\n",
    "print(e.q)"
   ]
  },
  {
   "cell_type": "code",
   "execution_count": 2,
   "id": "647c964b",
   "metadata": {},
   "outputs": [],
   "source": [
    "import os"
   ]
  },
  {
   "cell_type": "code",
   "execution_count": 1,
   "id": "2dc97129",
   "metadata": {},
   "outputs": [
    {
     "ename": "ModuleNotFoundError",
     "evalue": "No module named 'SDC'",
     "output_type": "error",
     "traceback": [
      "\u001b[1;31m---------------------------------------------------------------------------\u001b[0m",
      "\u001b[1;31mModuleNotFoundError\u001b[0m                       Traceback (most recent call last)",
      "\u001b[1;32m<ipython-input-1-e04b3373e57c>\u001b[0m in \u001b[0;36m<module>\u001b[1;34m\u001b[0m\n\u001b[1;32m----> 1\u001b[1;33m \u001b[1;32mfrom\u001b[0m \u001b[0mSDC\u001b[0m \u001b[1;32mimport\u001b[0m \u001b[0mouter\u001b[0m\u001b[1;33m\u001b[0m\u001b[1;33m\u001b[0m\u001b[0m\n\u001b[0m",
      "\u001b[1;31mModuleNotFoundError\u001b[0m: No module named 'SDC'"
     ]
    }
   ],
   "source": [
    "from SDC import outer"
   ]
  },
  {
   "cell_type": "code",
   "execution_count": 3,
   "id": "589d7c01",
   "metadata": {},
   "outputs": [
    {
     "name": "stdout",
     "output_type": "stream",
     "text": [
      "['DirEntry', 'F_OK', 'MutableMapping', 'O_APPEND', 'O_BINARY', 'O_CREAT', 'O_EXCL', 'O_NOINHERIT', 'O_RANDOM', 'O_RDONLY', 'O_RDWR', 'O_SEQUENTIAL', 'O_SHORT_LIVED', 'O_TEMPORARY', 'O_TEXT', 'O_TRUNC', 'O_WRONLY', 'P_DETACH', 'P_NOWAIT', 'P_NOWAITO', 'P_OVERLAY', 'P_WAIT', 'PathLike', 'R_OK', 'SEEK_CUR', 'SEEK_END', 'SEEK_SET', 'TMP_MAX', 'W_OK', 'X_OK', '_Environ', '__all__', '__builtins__', '__cached__', '__doc__', '__file__', '__loader__', '__name__', '__package__', '__spec__', '_execvpe', '_exists', '_exit', '_fspath', '_get_exports_list', '_putenv', '_unsetenv', '_wrap_close', 'abc', 'abort', 'access', 'altsep', 'chdir', 'chmod', 'close', 'closerange', 'cpu_count', 'curdir', 'defpath', 'device_encoding', 'devnull', 'dup', 'dup2', 'environ', 'error', 'execl', 'execle', 'execlp', 'execlpe', 'execv', 'execve', 'execvp', 'execvpe', 'extsep', 'fdopen', 'fsdecode', 'fsencode', 'fspath', 'fstat', 'fsync', 'ftruncate', 'get_exec_path', 'get_handle_inheritable', 'get_inheritable', 'get_terminal_size', 'getcwd', 'getcwdb', 'getenv', 'getlogin', 'getpid', 'getppid', 'isatty', 'kill', 'linesep', 'link', 'listdir', 'lseek', 'lstat', 'makedirs', 'mkdir', 'name', 'open', 'pardir', 'path', 'pathsep', 'pipe', 'popen', 'putenv', 'read', 'readlink', 'remove', 'removedirs', 'rename', 'renames', 'replace', 'rmdir', 'scandir', 'sep', 'set_handle_inheritable', 'set_inheritable', 'spawnl', 'spawnle', 'spawnv', 'spawnve', 'st', 'startfile', 'stat', 'stat_result', 'statvfs_result', 'strerror', 'supports_bytes_environ', 'supports_dir_fd', 'supports_effective_ids', 'supports_fd', 'supports_follow_symlinks', 'symlink', 'sys', 'system', 'terminal_size', 'times', 'times_result', 'truncate', 'umask', 'uname_result', 'unlink', 'urandom', 'utime', 'waitpid', 'walk', 'write']\n"
     ]
    }
   ],
   "source": [
    "print(dir(os))"
   ]
  },
  {
   "cell_type": "code",
   "execution_count": 13,
   "id": "a1d714a5",
   "metadata": {},
   "outputs": [
    {
     "name": "stdout",
     "output_type": "stream",
     "text": [
      "C:\\users\\nrk\\Desktop\n"
     ]
    }
   ],
   "source": [
    "print(os.getcwd())"
   ]
  },
  {
   "cell_type": "code",
   "execution_count": 14,
   "id": "7b62f7b7",
   "metadata": {},
   "outputs": [],
   "source": [
    "from SDC import outer"
   ]
  },
  {
   "cell_type": "code",
   "execution_count": 5,
   "id": "c733f2c0",
   "metadata": {},
   "outputs": [],
   "source": [
    "os.chdir(\"C:\\\\users\\\\nrk\\\\Desktop\")"
   ]
  },
  {
   "cell_type": "code",
   "execution_count": 15,
   "id": "3b317993",
   "metadata": {},
   "outputs": [
    {
     "name": "stdout",
     "output_type": "stream",
     "text": [
      "Outer of folders it is in Desktop\n"
     ]
    }
   ],
   "source": [
    "print(outer.t)"
   ]
  },
  {
   "cell_type": "code",
   "execution_count": null,
   "id": "87d69270",
   "metadata": {},
   "outputs": [],
   "source": [
    "\n",
    "calsi\n",
    "    add\n",
    "    sub\n",
    "    mul\n",
    "    div\n",
    "\n",
    "    12 3\n",
    "    d.add(12,3) => Given numbers are 12 and 3 and its addition is: 15\n",
    "    "
   ]
  },
  {
   "cell_type": "code",
   "execution_count": null,
   "id": "4b3bc191",
   "metadata": {},
   "outputs": [],
   "source": [
    "from ... import ...\n",
    "n = int(input())\n",
    "m = int(input())\n",
    "print(...add(n,m))"
   ]
  },
  {
   "cell_type": "code",
   "execution_count": 27,
   "id": "d52a95a5",
   "metadata": {},
   "outputs": [
    {
     "name": "stdout",
     "output_type": "stream",
     "text": [
      "100\n",
      "Even numbers in a range is: [98, 100]\n"
     ]
    }
   ],
   "source": [
    "from APSSDC.Demo import main\n",
    "y = int(input())\n",
    "h = main.even(y)\n",
    "print(\"Even numbers in a range is: {}\".format(h[-2:]))"
   ]
  },
  {
   "cell_type": "code",
   "execution_count": null,
   "id": "b20024f8",
   "metadata": {},
   "outputs": [],
   "source": []
  }
 ],
 "metadata": {
  "kernelspec": {
   "display_name": "Python 3",
   "language": "python",
   "name": "python3"
  },
  "language_info": {
   "codemirror_mode": {
    "name": "ipython",
    "version": 3
   },
   "file_extension": ".py",
   "mimetype": "text/x-python",
   "name": "python",
   "nbconvert_exporter": "python",
   "pygments_lexer": "ipython3",
   "version": "3.7.5"
  }
 },
 "nbformat": 4,
 "nbformat_minor": 5
}
